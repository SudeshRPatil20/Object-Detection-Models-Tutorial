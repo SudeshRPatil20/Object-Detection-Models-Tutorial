{
 "cells": [
  {
   "cell_type": "code",
   "execution_count": 1,
   "id": "ae3ff8c5",
   "metadata": {
    "_cell_guid": "b1076dfc-b9ad-4769-8c92-a6c4dae69d19",
    "_uuid": "8f2839f25d086af736a60e9eeb907d3b93b6e0e5",
    "execution": {
     "iopub.execute_input": "2025-09-19T12:26:45.233057Z",
     "iopub.status.busy": "2025-09-19T12:26:45.232868Z",
     "iopub.status.idle": "2025-09-19T12:26:45.236697Z",
     "shell.execute_reply": "2025-09-19T12:26:45.236046Z"
    },
    "papermill": {
     "duration": 0.009102,
     "end_time": "2025-09-19T12:26:45.237829",
     "exception": false,
     "start_time": "2025-09-19T12:26:45.228727",
     "status": "completed"
    },
    "tags": []
   },
   "outputs": [],
   "source": [
    "# # This Python 3 environment comes with many helpful analytics libraries installed\n",
    "# # It is defined by the kaggle/python Docker image: https://github.com/kaggle/docker-python\n",
    "# # For example, here's several helpful packages to load\n",
    "\n",
    "# import numpy as np # linear algebra\n",
    "# import pandas as pd # data processing, CSV file I/O (e.g. pd.read_csv)\n",
    "\n",
    "# # Input data files are available in the read-only \"../input/\" directory\n",
    "# # For example, running this (by clicking run or pressing Shift+Enter) will list all files under the input directory\n",
    "\n",
    "# import os\n",
    "# for dirname, _, filenames in os.walk('/kaggle/input'):\n",
    "#     for filename in filenames:\n",
    "#         print(os.path.join(dirname, filename))\n",
    "\n",
    "# # You can write up to 20GB to the current directory (/kaggle/working/) that gets preserved as output when you create a version using \"Save & Run All\" \n",
    "# # You can also write temporary files to /kaggle/temp/, but they won't be saved outside of the current session"
   ]
  },
  {
   "cell_type": "code",
   "execution_count": 2,
   "id": "7cebfbae",
   "metadata": {
    "execution": {
     "iopub.execute_input": "2025-09-19T12:26:45.244385Z",
     "iopub.status.busy": "2025-09-19T12:26:45.244027Z",
     "iopub.status.idle": "2025-09-19T12:26:53.931188Z",
     "shell.execute_reply": "2025-09-19T12:26:53.930606Z"
    },
    "papermill": {
     "duration": 8.69184,
     "end_time": "2025-09-19T12:26:53.932676",
     "exception": false,
     "start_time": "2025-09-19T12:26:45.240836",
     "status": "completed"
    },
    "tags": []
   },
   "outputs": [],
   "source": [
    "import os\n",
    "from torch import nn\n",
    "import torch\n",
    "import time\n",
    "\n",
    "from PIL import Image\n",
    "from torchvision import transforms\n",
    "\n",
    "from torch.utils.data import DataLoader, Dataset\n",
    "from torch.optim import Adam, AdamW, SGD\n",
    "import torch.nn.functional as F"
   ]
  },
  {
   "cell_type": "code",
   "execution_count": 3,
   "id": "2bf798af",
   "metadata": {
    "execution": {
     "iopub.execute_input": "2025-09-19T12:26:53.939923Z",
     "iopub.status.busy": "2025-09-19T12:26:53.939662Z",
     "iopub.status.idle": "2025-09-19T12:26:53.946643Z",
     "shell.execute_reply": "2025-09-19T12:26:53.946069Z"
    },
    "papermill": {
     "duration": 0.011668,
     "end_time": "2025-09-19T12:26:53.947600",
     "exception": false,
     "start_time": "2025-09-19T12:26:53.935932",
     "status": "completed"
    },
    "tags": []
   },
   "outputs": [],
   "source": [
    "import os\n",
    "from torch.utils.data import Dataset\n",
    "from torchvision import transforms\n",
    "from PIL import Image\n",
    "\n",
    "class ImageSegmentation(Dataset):\n",
    "    def __init__(self, img_dir, mask_dir):\n",
    "        self.img_dir = img_dir\n",
    "        self.mask_dir = mask_dir\n",
    "\n",
    "        self.img_transform = transforms.Compose([\n",
    "            transforms.Resize((512, 512)),\n",
    "            transforms.ToTensor()\n",
    "        ])\n",
    "        self.mask_transform = transforms.Compose([\n",
    "            transforms.Resize((512, 512), interpolation=Image.NEAREST),\n",
    "            transforms.ToTensor()\n",
    "        ])\n",
    "\n",
    "        valid_extensions = {\".jpg\", \".jpeg\", \".png\"}\n",
    "        self.images = [f for f in os.listdir(img_dir) if os.path.splitext(f)[1].lower() in valid_extensions]\n",
    "\n",
    "    def __len__(self):\n",
    "        return len(self.images)\n",
    "\n",
    "    def __getitem__(self, idx):\n",
    "        image_path = os.path.join(self.img_dir, self.images[idx])\n",
    "        name, _ = os.path.splitext(self.images[idx])\n",
    "        mask_path = os.path.join(self.mask_dir, f\"{name}.png\")\n",
    "\n",
    "        image = Image.open(image_path).convert(\"RGB\")\n",
    "        mask = Image.open(mask_path).convert(\"L\")\n",
    "\n",
    "        image = self.img_transform(image)\n",
    "        mask = self.mask_transform(mask)\n",
    "\n",
    "        mask = (mask > 0.5).float()\n",
    "\n",
    "        return image, mask\n"
   ]
  },
  {
   "cell_type": "code",
   "execution_count": 4,
   "id": "f88261eb",
   "metadata": {
    "execution": {
     "iopub.execute_input": "2025-09-19T12:26:53.953684Z",
     "iopub.status.busy": "2025-09-19T12:26:53.953481Z",
     "iopub.status.idle": "2025-09-19T12:26:53.956963Z",
     "shell.execute_reply": "2025-09-19T12:26:53.956341Z"
    },
    "papermill": {
     "duration": 0.007628,
     "end_time": "2025-09-19T12:26:53.957953",
     "exception": false,
     "start_time": "2025-09-19T12:26:53.950325",
     "status": "completed"
    },
    "tags": []
   },
   "outputs": [],
   "source": [
    "def get_dataloader(img_dir, mask_dir, batch_size=2, shuffle=True):\n",
    "    dataset = ImageSegmentation(img_dir, mask_dir)\n",
    "    return DataLoader(dataset, batch_size=batch_size, shuffle=shuffle)"
   ]
  },
  {
   "cell_type": "code",
   "execution_count": 5,
   "id": "068a6663",
   "metadata": {
    "execution": {
     "iopub.execute_input": "2025-09-19T12:26:53.964636Z",
     "iopub.status.busy": "2025-09-19T12:26:53.963986Z",
     "iopub.status.idle": "2025-09-19T12:26:53.968175Z",
     "shell.execute_reply": "2025-09-19T12:26:53.967663Z"
    },
    "papermill": {
     "duration": 0.00848,
     "end_time": "2025-09-19T12:26:53.969267",
     "exception": false,
     "start_time": "2025-09-19T12:26:53.960787",
     "status": "completed"
    },
    "tags": []
   },
   "outputs": [],
   "source": [
    "class DoubleConv(nn.Module):\n",
    "    def __init__(self, in_channels, out_channels):\n",
    "        super().__init__()\n",
    "        self.conv_op = nn.Sequential(\n",
    "            nn.Conv2d(in_channels, out_channels, kernel_size=3, padding=1),\n",
    "            nn.ReLU(inplace=True),\n",
    "            nn.Conv2d(out_channels, out_channels, kernel_size=3, padding=1),\n",
    "            nn.ReLU(inplace=True),\n",
    "        )\n",
    "\n",
    "    def forward(self, x):\n",
    "        return self.conv_op(x)\n"
   ]
  },
  {
   "cell_type": "code",
   "execution_count": 6,
   "id": "f75f5b8a",
   "metadata": {
    "execution": {
     "iopub.execute_input": "2025-09-19T12:26:53.975709Z",
     "iopub.status.busy": "2025-09-19T12:26:53.975218Z",
     "iopub.status.idle": "2025-09-19T12:26:53.979060Z",
     "shell.execute_reply": "2025-09-19T12:26:53.978575Z"
    },
    "papermill": {
     "duration": 0.007998,
     "end_time": "2025-09-19T12:26:53.979999",
     "exception": false,
     "start_time": "2025-09-19T12:26:53.972001",
     "status": "completed"
    },
    "tags": []
   },
   "outputs": [],
   "source": [
    "class DownSample(nn.Module):\n",
    "    def __init__(self, in_channels, out_channels):\n",
    "        super().__init__()\n",
    "        self.conv = DoubleConv(in_channels, out_channels)\n",
    "        self.pool = nn.MaxPool2d(kernel_size=2, stride=2)\n",
    "\n",
    "    def forward(self, x):\n",
    "        down = self.conv(x)\n",
    "        p = self.pool(down)\n",
    "        return down, p"
   ]
  },
  {
   "cell_type": "code",
   "execution_count": 7,
   "id": "402058c1",
   "metadata": {
    "execution": {
     "iopub.execute_input": "2025-09-19T12:26:53.985946Z",
     "iopub.status.busy": "2025-09-19T12:26:53.985776Z",
     "iopub.status.idle": "2025-09-19T12:26:53.990466Z",
     "shell.execute_reply": "2025-09-19T12:26:53.989958Z"
    },
    "papermill": {
     "duration": 0.00871,
     "end_time": "2025-09-19T12:26:53.991442",
     "exception": false,
     "start_time": "2025-09-19T12:26:53.982732",
     "status": "completed"
    },
    "tags": []
   },
   "outputs": [],
   "source": [
    "\n",
    "class UpSample(nn.Module):\n",
    "    def __init__(self, in_channels, out_channels):\n",
    "        super().__init__()\n",
    "        self.up = nn.ConvTranspose2d(in_channels, in_channels // 2, kernel_size=2, stride=2)\n",
    "        self.conv = DoubleConv(in_channels, out_channels)\n",
    "\n",
    "    def forward(self, x1, x2):\n",
    "        x1 = self.up(x1)\n",
    "\n",
    "        # Pad in case of odd dimensions mismatch\n",
    "        diffY = x2.size()[2] - x1.size()[2]\n",
    "        diffX = x2.size()[3] - x1.size()[3]\n",
    "        x1 = F.pad(x1, [diffX // 2, diffX - diffX // 2,\n",
    "                        diffY // 2, diffY - diffY // 2])\n",
    "\n",
    "        x = torch.cat([x2, x1], dim=1)\n",
    "        return self.conv(x)"
   ]
  },
  {
   "cell_type": "code",
   "execution_count": 8,
   "id": "4980e6e6",
   "metadata": {
    "execution": {
     "iopub.execute_input": "2025-09-19T12:26:53.997648Z",
     "iopub.status.busy": "2025-09-19T12:26:53.997252Z",
     "iopub.status.idle": "2025-09-19T12:26:54.003297Z",
     "shell.execute_reply": "2025-09-19T12:26:54.002842Z"
    },
    "papermill": {
     "duration": 0.010129,
     "end_time": "2025-09-19T12:26:54.004230",
     "exception": false,
     "start_time": "2025-09-19T12:26:53.994101",
     "status": "completed"
    },
    "tags": []
   },
   "outputs": [],
   "source": [
    "import torch\n",
    "import torch.nn as nn\n",
    "import torch.nn.functional as F\n",
    "\n",
    "class UNet(nn.Module):\n",
    "    def __init__(self, in_channels, num_classes):\n",
    "        super().__init__()\n",
    "        self.down_convolution_1 = DownSample(in_channels, 64)\n",
    "        self.down_convolution_2 = DownSample(64, 128)\n",
    "        self.down_convolution_3 = DownSample(128, 256)\n",
    "        self.down_convolution_4 = DownSample(256, 512)\n",
    "\n",
    "        self.bottleneck = DoubleConv(512, 1024)\n",
    "\n",
    "        self.up_convolution_1 = UpSample(1024, 512)\n",
    "        self.up_convolution_2 = UpSample(512, 256)\n",
    "        self.up_convolution_3 = UpSample(256, 128)\n",
    "        self.up_convolution_4 = UpSample(128, 64)\n",
    "\n",
    "        # final output conv\n",
    "        self.out = nn.Conv2d(64, num_classes, kernel_size=1)\n",
    "\n",
    "    def forward(self, x):\n",
    "        down_1, p1 = self.down_convolution_1(x)\n",
    "        down_2, p2 = self.down_convolution_2(p1)\n",
    "        down_3, p3 = self.down_convolution_3(p2)\n",
    "        down_4, p4 = self.down_convolution_4(p3)\n",
    "\n",
    "        b = self.bottleneck(p4)\n",
    "\n",
    "        up_1 = self.up_convolution_1(b, down_4)\n",
    "        up_2 = self.up_convolution_2(up_1, down_3)\n",
    "        up_3 = self.up_convolution_3(up_2, down_2)\n",
    "        up_4 = self.up_convolution_4(up_3, down_1)\n",
    "\n",
    "        out = self.out(up_4)\n",
    "\n",
    "        return out   # logits (apply sigmoid/softmax outside depending on loss)\n"
   ]
  },
  {
   "cell_type": "code",
   "execution_count": 9,
   "id": "a321c1a8",
   "metadata": {
    "execution": {
     "iopub.execute_input": "2025-09-19T12:26:54.010287Z",
     "iopub.status.busy": "2025-09-19T12:26:54.010091Z",
     "iopub.status.idle": "2025-09-19T12:26:54.014065Z",
     "shell.execute_reply": "2025-09-19T12:26:54.013586Z"
    },
    "papermill": {
     "duration": 0.007985,
     "end_time": "2025-09-19T12:26:54.014977",
     "exception": false,
     "start_time": "2025-09-19T12:26:54.006992",
     "status": "completed"
    },
    "tags": []
   },
   "outputs": [],
   "source": [
    "class DiceLoss(nn.Module):\n",
    "    def __init__(self, smooth=1e-6):\n",
    "        super(DiceLoss, self).__init__()\n",
    "        self.smooth=smooth\n",
    "\n",
    "    def forward(self, inputs, targets):\n",
    "        inputs=inputs.view(-1)\n",
    "        targets=targets.view(-1)\n",
    "\n",
    "        intersection=(inputs * targets).sum()\n",
    "        dice_score=(2. * intersection + self.smooth) / (inputs.sum() + targets.sum() + self.smooth)\n",
    "\n",
    "        return 1 - dice_score"
   ]
  },
  {
   "cell_type": "code",
   "execution_count": 10,
   "id": "df9be8dc",
   "metadata": {
    "execution": {
     "iopub.execute_input": "2025-09-19T12:26:54.020921Z",
     "iopub.status.busy": "2025-09-19T12:26:54.020731Z",
     "iopub.status.idle": "2025-09-19T12:26:54.024523Z",
     "shell.execute_reply": "2025-09-19T12:26:54.024014Z"
    },
    "papermill": {
     "duration": 0.007894,
     "end_time": "2025-09-19T12:26:54.025552",
     "exception": false,
     "start_time": "2025-09-19T12:26:54.017658",
     "status": "completed"
    },
    "tags": []
   },
   "outputs": [],
   "source": [
    "class BCEWithDiceLoss(nn.Module):\n",
    "    def __init__(self, smooth=1e-6):\n",
    "        super(BCEWithDiceLoss, self).__init__()\n",
    "        self.bce = nn.BCEWithLogitsLoss()\n",
    "        self.dice = DiceLoss()\n",
    "\n",
    "    def forward(self, inputs, targets):\n",
    "        bce_loss = self.bce(inputs, targets)\n",
    "        dice_loss = self.dice(inputs, targets)\n",
    "        return 0.5*bce_loss + dice_loss\n",
    "        "
   ]
  },
  {
   "cell_type": "code",
   "execution_count": 11,
   "id": "0a41eddf",
   "metadata": {
    "execution": {
     "iopub.execute_input": "2025-09-19T12:26:54.032712Z",
     "iopub.status.busy": "2025-09-19T12:26:54.032074Z",
     "iopub.status.idle": "2025-09-19T12:26:54.039173Z",
     "shell.execute_reply": "2025-09-19T12:26:54.038655Z"
    },
    "papermill": {
     "duration": 0.011143,
     "end_time": "2025-09-19T12:26:54.040135",
     "exception": false,
     "start_time": "2025-09-19T12:26:54.028992",
     "status": "completed"
    },
    "tags": []
   },
   "outputs": [],
   "source": [
    "import torch\n",
    "import os\n",
    "from torch.cuda.amp import autocast, GradScaler\n",
    "from torch.optim import Adam  # you can use SGD if you prefer\n",
    "\n",
    "def train(model, dataloader, epochs=10, lr=0.001, save_path=\"unet_model\", load_path=None):\n",
    "    device = torch.device(\"cuda\" if torch.cuda.is_available() else \"cpu\")\n",
    "\n",
    "    # Load checkpoint if available\n",
    "    if load_path and os.path.exists(load_path):\n",
    "        print(f\"Loading model weights from {load_path}\")\n",
    "        model.load_state_dict(torch.load(load_path, map_location=device))\n",
    "    else:\n",
    "        print(\"No checkpoint found, training from scratch\")\n",
    "\n",
    "    print(f\"Using device: {device}\")\n",
    "    model.to(device)\n",
    "\n",
    "    # Loss & optimizer\n",
    "    criterion = BCEWithDiceLoss()   # keep your custom loss\n",
    "    optimizer = Adam(model.parameters(), lr=lr)\n",
    "    scaler = GradScaler()  # for mixed precision\n",
    "\n",
    "    for epoch in range(epochs):\n",
    "        model.train()\n",
    "        epoch_loss = 0.0\n",
    "\n",
    "        for images, mask in dataloader:\n",
    "            images, mask = images.to(device), mask.to(device)\n",
    "\n",
    "            optimizer.zero_grad()\n",
    "\n",
    "            # mixed precision training\n",
    "            with autocast():\n",
    "                output = model(images)\n",
    "                loss = criterion(output, mask)\n",
    "\n",
    "            scaler.scale(loss).backward()\n",
    "            scaler.step(optimizer)\n",
    "            scaler.update()\n",
    "\n",
    "            epoch_loss += loss.item()\n",
    "\n",
    "        avg_loss = epoch_loss / len(dataloader)\n",
    "        print(f\"Epoch [{epoch+1}/{epochs}], Loss: {avg_loss:.4f}, LR: {lr}\")\n",
    "\n",
    "        # save every 10 epochs\n",
    "        if (epoch + 1) % 10 == 0:\n",
    "            torch.save(model.state_dict(), f\"{save_path}_epoch{epoch+1}.pth\")\n",
    "\n",
    "        # free cached GPU memory\n",
    "        torch.cuda.empty_cache()\n",
    "\n",
    "    # final save\n",
    "    torch.save(model.state_dict(), f\"{save_path}_final.pth\")\n",
    "    print(f\"Model saved to {save_path}_final.pth\")\n"
   ]
  },
  {
   "cell_type": "code",
   "execution_count": 12,
   "id": "3767a546",
   "metadata": {
    "execution": {
     "iopub.execute_input": "2025-09-19T12:26:54.046166Z",
     "iopub.status.busy": "2025-09-19T12:26:54.045960Z",
     "iopub.status.idle": "2025-09-19T12:26:54.100660Z",
     "shell.execute_reply": "2025-09-19T12:26:54.100142Z"
    },
    "papermill": {
     "duration": 0.058974,
     "end_time": "2025-09-19T12:26:54.101825",
     "exception": false,
     "start_time": "2025-09-19T12:26:54.042851",
     "status": "completed"
    },
    "tags": []
   },
   "outputs": [],
   "source": [
    "train_dataset = ImageSegmentation(\n",
    "    img_dir=\"/kaggle/input/buildings-dataset/src\",\n",
    "    mask_dir=\"/kaggle/input/buildings-dataset/label\"\n",
    ")"
   ]
  },
  {
   "cell_type": "code",
   "execution_count": 13,
   "id": "87b3e1fa",
   "metadata": {
    "execution": {
     "iopub.execute_input": "2025-09-19T12:26:54.108216Z",
     "iopub.status.busy": "2025-09-19T12:26:54.107838Z",
     "iopub.status.idle": "2025-09-19T12:26:54.110979Z",
     "shell.execute_reply": "2025-09-19T12:26:54.110502Z"
    },
    "papermill": {
     "duration": 0.007292,
     "end_time": "2025-09-19T12:26:54.111996",
     "exception": false,
     "start_time": "2025-09-19T12:26:54.104704",
     "status": "completed"
    },
    "tags": []
   },
   "outputs": [],
   "source": [
    "dataloader = DataLoader(train_dataset, batch_size=2, shuffle=True)"
   ]
  },
  {
   "cell_type": "code",
   "execution_count": 14,
   "id": "f479726a",
   "metadata": {
    "execution": {
     "iopub.execute_input": "2025-09-19T12:26:54.117892Z",
     "iopub.status.busy": "2025-09-19T12:26:54.117723Z",
     "iopub.status.idle": "2025-09-19T12:37:19.580695Z",
     "shell.execute_reply": "2025-09-19T12:37:19.579913Z"
    },
    "papermill": {
     "duration": 625.470045,
     "end_time": "2025-09-19T12:37:19.584676",
     "exception": false,
     "start_time": "2025-09-19T12:26:54.114631",
     "status": "completed"
    },
    "tags": []
   },
   "outputs": [
    {
     "name": "stdout",
     "output_type": "stream",
     "text": [
      "No checkpoint found, training from scratch\n",
      "Using device: cuda\n"
     ]
    },
    {
     "name": "stderr",
     "output_type": "stream",
     "text": [
      "/tmp/ipykernel_19/454041104.py:22: FutureWarning: `torch.cuda.amp.GradScaler(args...)` is deprecated. Please use `torch.amp.GradScaler('cuda', args...)` instead.\n",
      "  scaler = GradScaler()  # for mixed precision\n",
      "/tmp/ipykernel_19/454041104.py:34: FutureWarning: `torch.cuda.amp.autocast(args...)` is deprecated. Please use `torch.amp.autocast('cuda', args...)` instead.\n",
      "  with autocast():\n"
     ]
    },
    {
     "name": "stdout",
     "output_type": "stream",
     "text": [
      "Epoch [1/1], Loss: nan, LR: 0.001\n",
      "Model saved to unet_model_final.pth\n"
     ]
    }
   ],
   "source": [
    "model = UNet(in_channels=3, num_classes=1)\n",
    "train(model, dataloader, epochs=1, lr=0.001)"
   ]
  },
  {
   "cell_type": "code",
   "execution_count": 15,
   "id": "77bbbf9c",
   "metadata": {
    "execution": {
     "iopub.execute_input": "2025-09-19T12:37:19.591560Z",
     "iopub.status.busy": "2025-09-19T12:37:19.591116Z",
     "iopub.status.idle": "2025-09-19T12:37:19.600396Z",
     "shell.execute_reply": "2025-09-19T12:37:19.599911Z"
    },
    "papermill": {
     "duration": 0.014021,
     "end_time": "2025-09-19T12:37:19.601666",
     "exception": false,
     "start_time": "2025-09-19T12:37:19.587645",
     "status": "completed"
    },
    "tags": []
   },
   "outputs": [],
   "source": [
    "dataloader = get_dataloader(\"/kaggle/input/buildings-dataset/src\", \"/kaggle/input/buildings-dataset/label\", batch_size=1, shuffle=True)"
   ]
  },
  {
   "cell_type": "code",
   "execution_count": 16,
   "id": "57cb2ba1",
   "metadata": {
    "execution": {
     "iopub.execute_input": "2025-09-19T12:37:19.608580Z",
     "iopub.status.busy": "2025-09-19T12:37:19.608109Z",
     "iopub.status.idle": "2025-09-19T12:37:19.840854Z",
     "shell.execute_reply": "2025-09-19T12:37:19.840078Z"
    },
    "papermill": {
     "duration": 0.237455,
     "end_time": "2025-09-19T12:37:19.842198",
     "exception": false,
     "start_time": "2025-09-19T12:37:19.604743",
     "status": "completed"
    },
    "tags": []
   },
   "outputs": [],
   "source": [
    "model=UNet(in_channels=3, num_classes=1)"
   ]
  },
  {
   "cell_type": "code",
   "execution_count": 17,
   "id": "eb5e2390",
   "metadata": {
    "execution": {
     "iopub.execute_input": "2025-09-19T12:37:19.849257Z",
     "iopub.status.busy": "2025-09-19T12:37:19.849033Z",
     "iopub.status.idle": "2025-09-19T12:47:07.368722Z",
     "shell.execute_reply": "2025-09-19T12:47:07.367739Z"
    },
    "papermill": {
     "duration": 587.524451,
     "end_time": "2025-09-19T12:47:07.370003",
     "exception": false,
     "start_time": "2025-09-19T12:37:19.845552",
     "status": "completed"
    },
    "tags": []
   },
   "outputs": [
    {
     "name": "stdout",
     "output_type": "stream",
     "text": [
      "No checkpoint found, training from scratch\n",
      "Using device: cuda\n"
     ]
    },
    {
     "name": "stderr",
     "output_type": "stream",
     "text": [
      "/tmp/ipykernel_19/454041104.py:22: FutureWarning: `torch.cuda.amp.GradScaler(args...)` is deprecated. Please use `torch.amp.GradScaler('cuda', args...)` instead.\n",
      "  scaler = GradScaler()  # for mixed precision\n",
      "/tmp/ipykernel_19/454041104.py:34: FutureWarning: `torch.cuda.amp.autocast(args...)` is deprecated. Please use `torch.amp.autocast('cuda', args...)` instead.\n",
      "  with autocast():\n"
     ]
    },
    {
     "name": "stdout",
     "output_type": "stream",
     "text": [
      "Epoch [1/1], Loss: nan, LR: 0.001\n",
      "Model saved to unet_model_final.pth\n"
     ]
    }
   ],
   "source": [
    "train(model, dataloader, epochs=1, lr=0.001)"
   ]
  },
  {
   "cell_type": "code",
   "execution_count": null,
   "id": "5e1ab4cd",
   "metadata": {
    "execution": {
     "iopub.execute_input": "2025-09-08T12:38:34.872795Z",
     "iopub.status.busy": "2025-09-08T12:38:34.872527Z",
     "iopub.status.idle": "2025-09-08T12:38:34.876442Z",
     "shell.execute_reply": "2025-09-08T12:38:34.875693Z",
     "shell.execute_reply.started": "2025-09-08T12:38:34.872774Z"
    },
    "papermill": {
     "duration": 0.005273,
     "end_time": "2025-09-19T12:47:07.378660",
     "exception": false,
     "start_time": "2025-09-19T12:47:07.373387",
     "status": "completed"
    },
    "tags": []
   },
   "outputs": [],
   "source": []
  }
 ],
 "metadata": {
  "kaggle": {
   "accelerator": "nvidiaTeslaT4",
   "dataSources": [
    {
     "datasetId": 991734,
     "sourceId": 1698392,
     "sourceType": "datasetVersion"
    }
   ],
   "dockerImageVersionId": 31090,
   "isGpuEnabled": true,
   "isInternetEnabled": true,
   "language": "python",
   "sourceType": "notebook"
  },
  "kernelspec": {
   "display_name": "Python 3",
   "language": "python",
   "name": "python3"
  },
  "language_info": {
   "codemirror_mode": {
    "name": "ipython",
    "version": 3
   },
   "file_extension": ".py",
   "mimetype": "text/x-python",
   "name": "python",
   "nbconvert_exporter": "python",
   "pygments_lexer": "ipython3",
   "version": "3.11.13"
  },
  "papermill": {
   "default_parameters": {},
   "duration": 1227.621191,
   "end_time": "2025-09-19T12:47:08.802519",
   "environment_variables": {},
   "exception": null,
   "input_path": "__notebook__.ipynb",
   "output_path": "__notebook__.ipynb",
   "parameters": {},
   "start_time": "2025-09-19T12:26:41.181328",
   "version": "2.6.0"
  }
 },
 "nbformat": 4,
 "nbformat_minor": 5
}
